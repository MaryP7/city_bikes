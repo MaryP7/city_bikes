{
 "cells": [
  {
   "cell_type": "code",
   "execution_count": 1,
   "id": "3b82b47c",
   "metadata": {},
   "outputs": [],
   "source": [
    "import pandas as pd\n",
    "import numpy as np\n",
    "import os\n",
    "import requests\n",
    "import json\n",
    "from datetime import datetime"
   ]
  },
  {
   "cell_type": "code",
   "execution_count": 2,
   "id": "fd9de158",
   "metadata": {
    "scrolled": false
   },
   "outputs": [
    {
     "ename": "SyntaxError",
     "evalue": "(unicode error) 'unicodeescape' codec can't decode bytes in position 4-5: truncated \\uXXXX escape (3435867970.py, line 1)",
     "output_type": "error",
     "traceback": [
      "\u001b[1;36m  Cell \u001b[1;32mIn[2], line 1\u001b[1;36m\u001b[0m\n\u001b[1;33m    filepath=\"data\\unzipped\\2013-citibike-tripdata\\201306-citibike-tripdata.csv\"\u001b[0m\n\u001b[1;37m                                                                                ^\u001b[0m\n\u001b[1;31mSyntaxError\u001b[0m\u001b[1;31m:\u001b[0m (unicode error) 'unicodeescape' codec can't decode bytes in position 4-5: truncated \\uXXXX escape\n"
     ]
    }
   ],
   "source": [
    "filepath=\"data\\unzipped\\2013-citibike-tripdata\\201306-citibike-tripdata.csv\"\n",
    "\n"
   ]
  },
  {
   "cell_type": "code",
   "execution_count": 3,
   "id": "1c2da024",
   "metadata": {},
   "outputs": [
    {
     "ename": "NameError",
     "evalue": "name 'filepath' is not defined",
     "output_type": "error",
     "traceback": [
      "\u001b[1;31m---------------------------------------------------------------------------\u001b[0m",
      "\u001b[1;31mNameError\u001b[0m                                 Traceback (most recent call last)",
      "Cell \u001b[1;32mIn[3], line 1\u001b[0m\n\u001b[1;32m----> 1\u001b[0m df\u001b[38;5;241m=\u001b[39mpd\u001b[38;5;241m.\u001b[39mread_csv(filepath)\n",
      "\u001b[1;31mNameError\u001b[0m: name 'filepath' is not defined"
     ]
    }
   ],
   "source": [
    "df=pd.read_csv(filepath)"
   ]
  },
  {
   "cell_type": "code",
   "execution_count": null,
   "id": "cf2edc7c",
   "metadata": {},
   "outputs": [],
   "source": [
    "Token = 'requests.get()"
   ]
  },
  {
   "cell_type": "code",
   "execution_count": null,
   "id": "765e68e5",
   "metadata": {},
   "outputs": [],
   "source": [
    "r = requests.get('https://www.ncdc.noaa.gov/cdo-web/api/v2/data?datasetid=GHCND&datatypeid=TAVG&limit=1000&stationid=GHCND:USW00094846&startdate=2018-01-01&enddate=2018-12-31', headers={'token':Token})"
   ]
  },
  {
   "cell_type": "code",
   "execution_count": null,
   "id": "3ad3ac52",
   "metadata": {},
   "outputs": [],
   "source": [
    "d = json.loads(r.text)  "
   ]
  },
  {
   "cell_type": "code",
   "execution_count": null,
   "id": "d223692f",
   "metadata": {},
   "outputs": [],
   "source": [
    "# Secure all items in the response that correspond to TAVG\n",
    "\n",
    "avg_temps = [item for item in d['results'] if item['datatype']=='TAVG']\n",
    "# Get only the date field from all average temperature readings\n",
    "\n",
    "data_temp = [item['date'] for item in avg_temps]\n",
    "# Get the temperature from all average temperature readings\n",
    "\n",
    "temps = [item['value'] for item in avg_temps]"
   ]
  },
  {
   "cell_type": "code",
   "execution_count": null,
   "id": "f7e8fdda",
   "metadata": {},
   "outputs": [],
   "source": [
    "df_temp['date'] = [datetime.strptime(d, \"%Y-%m-%dT%H:%M:%S\") for d in dates_temp]"
   ]
  },
  {
   "cell_type": "code",
   "execution_count": null,
   "id": "0249b208",
   "metadata": {},
   "outputs": [],
   "source": [
    "# Put the results in a dataframe\n",
    "\n",
    "df_temps = pd.DataFrame()\n",
    "# Get only date and case it to date time; convert temperature from tenths of celsius to normal celsius\n",
    "\n",
    "df_temps['date'] = [datetime.strptime(d, \"%Y-%m-%dT%H:%M:%S\") for d in dates_temp] \n",
    "df_temps['avgTemp'] = [float(v)/10.0 for v in temps]"
   ]
  },
  {
   "cell_type": "code",
   "execution_count": null,
   "id": "af026fcd",
   "metadata": {},
   "outputs": [],
   "source": [
    "df_temp.tail()"
   ]
  },
  {
   "cell_type": "code",
   "execution_count": null,
   "id": "429d3a93",
   "metadata": {},
   "outputs": [],
   "source": [
    "df_temp.head()\n"
   ]
  },
  {
   "cell_type": "code",
   "execution_count": null,
   "id": "b9a20c71",
   "metadata": {},
   "outputs": [],
   "source": [
    "df['start_time'] = pd.to_datetime(df['start_time'], dayfirst = True)\n",
    "df['date'] = pd.to_datetime(df['start_time'], format='%Y-%m-%d').dt.date "
   ]
  },
  {
   "cell_type": "code",
   "execution_count": null,
   "id": "cf11437a",
   "metadata": {},
   "outputs": [],
   "source": [
    "%%time\n",
    "df_merged = df.merge(df_temp, how = 'left', on = 'date', indicator = True) "
   ]
  },
  {
   "cell_type": "code",
   "execution_count": null,
   "id": "2aed5df4",
   "metadata": {},
   "outputs": [],
   "source": [
    "CPU times: total: 29.7 s\n",
    "Wall time: 35.4 s "
   ]
  },
  {
   "cell_type": "code",
   "execution_count": null,
   "id": "12972b60",
   "metadata": {},
   "outputs": [],
   "source": [
    "df_merged['_merge'].value_counts(dropna = False)"
   ]
  },
  {
   "cell_type": "code",
   "execution_count": null,
   "id": "53471bec",
   "metadata": {},
   "outputs": [],
   "source": [
    "both           36030882\n",
    "left_only            0\n",
    "right_only           0\n",
    "Name: _merge, dtype: int64 "
   ]
  }
 ],
 "metadata": {
  "kernelspec": {
   "display_name": "Python [conda env:root] *",
   "language": "python",
   "name": "conda-root-py"
  },
  "language_info": {
   "codemirror_mode": {
    "name": "ipython",
    "version": 3
   },
   "file_extension": ".py",
   "mimetype": "text/x-python",
   "name": "python",
   "nbconvert_exporter": "python",
   "pygments_lexer": "ipython3",
   "version": "3.11.5"
  }
 },
 "nbformat": 4,
 "nbformat_minor": 5
}
