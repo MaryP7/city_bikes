{
 "cells": [
  {
   "cell_type": "code",
   "execution_count": 1,
   "id": "c0c30d38",
   "metadata": {},
   "outputs": [
    {
     "data": {
      "text/plain": [
       "'C:\\\\Users\\\\maryp\\\\2.2'"
      ]
     },
     "execution_count": 1,
     "metadata": {},
     "output_type": "execute_result"
    }
   ],
   "source": [
    "import requests\n",
    "import zipfile\n",
    "import os\n",
    "os.getcwd()"
   ]
  },
  {
   "cell_type": "code",
   "execution_count": 5,
   "id": "60a2a3be",
   "metadata": {},
   "outputs": [
    {
     "name": "stdout",
     "output_type": "stream",
     "text": [
      "['2013-citibike-tripdata.zip', '2014-citibike-tripdata.zip', '2015-citibike-tripdata.zip', 'unzipped']\n"
     ]
    }
   ],
   "source": [
    "new_filelist = os.listdir(\"data\")\n",
    "print(new_filelist)\n",
    "for filename in new_filelist:\n",
    "    \n",
    "    if not filename.endswith(\".zip\"):\n",
    "        continue\n",
    "                \n",
    "    with zipfile.ZipFile(f\"data/{filename}\", 'r') as zip_ref:\n",
    "        zip_ref.extractall(\"data/unzipped\")\n",
    "       "
   ]
  },
  {
   "cell_type": "code",
   "execution_count": 2,
   "id": "825772f2",
   "metadata": {},
   "outputs": [],
   "source": [
    "lst=list(range(10))"
   ]
  },
  {
   "cell_type": "code",
   "execution_count": 3,
   "id": "6a0451a8",
   "metadata": {},
   "outputs": [
    {
     "data": {
      "text/plain": [
       "[0, 1, 2, 3, 4, 5, 6, 7, 8, 9]"
      ]
     },
     "execution_count": 3,
     "metadata": {},
     "output_type": "execute_result"
    }
   ],
   "source": [
    "lst"
   ]
  },
  {
   "cell_type": "code",
   "execution_count": 4,
   "id": "5d00f56b",
   "metadata": {},
   "outputs": [
    {
     "name": "stdout",
     "output_type": "stream",
     "text": [
      "0\n",
      "this is string number 0\n",
      "\n",
      "1\n",
      "this is string number 1\n",
      "\n",
      "2\n",
      "this is string number 2\n",
      "\n",
      "3\n",
      "this is string number 3\n",
      "\n",
      "4\n",
      "this is string number 4\n",
      "\n",
      "5\n",
      "this is string number 5\n",
      "\n",
      "6\n",
      "this is string number 6\n",
      "\n",
      "7\n",
      "this is string number 7\n",
      "\n",
      "8\n",
      "this is string number 8\n",
      "\n",
      "9\n",
      "this is string number 9\n",
      "\n"
     ]
    }
   ],
   "source": [
    "for l in lst:\n",
    "    print(l)\n",
    "    s=f\"this is string number {l}\"\n",
    "    print(s)\n",
    "    print()"
   ]
  },
  {
   "cell_type": "code",
   "execution_count": null,
   "id": "3e29dac3",
   "metadata": {},
   "outputs": [],
   "source": [
    "\"data\\unzipped\\2013-citibike-tripdata\\201306-citibike-tripdata.csv\""
   ]
  }
 ],
 "metadata": {
  "kernelspec": {
   "display_name": "Python [conda env:root] *",
   "language": "python",
   "name": "conda-root-py"
  },
  "language_info": {
   "codemirror_mode": {
    "name": "ipython",
    "version": 3
   },
   "file_extension": ".py",
   "mimetype": "text/x-python",
   "name": "python",
   "nbconvert_exporter": "python",
   "pygments_lexer": "ipython3",
   "version": "3.11.5"
  }
 },
 "nbformat": 4,
 "nbformat_minor": 5
}
