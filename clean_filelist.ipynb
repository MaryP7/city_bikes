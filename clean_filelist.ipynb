{
 "cells": [
  {
   "cell_type": "code",
   "execution_count": 1,
   "id": "c0c30d38",
   "metadata": {},
   "outputs": [
    {
     "data": {
      "text/plain": [
       "'C:\\\\Users\\\\maryp\\\\2.2'"
      ]
     },
     "execution_count": 1,
     "metadata": {},
     "output_type": "execute_result"
    }
   ],
   "source": [
    "import requests\n",
    "import zipfile\n",
    "import os\n",
    "os.getcwd()"
   ]
  },
  {
   "cell_type": "code",
   "execution_count": 5,
   "id": "60a2a3be",
   "metadata": {},
   "outputs": [
    {
     "name": "stdout",
     "output_type": "stream",
     "text": [
      "['2013-citibike-tripdata.zip', '2014-citibike-tripdata.zip', '2015-citibike-tripdata.zip', 'unzipped']\n"
     ]
    }
   ],
   "source": [
    "new_filelist = os.listdir(\"data\")\n",
    "print(new_filelist)\n",
    "for filename in new_filelist:\n",
    "    \n",
    "    if not filename.endswith(\".zip\"):\n",
    "        continue\n",
    "                \n",
    "    with zipfile.ZipFile(f\"data/{filename}\", 'r') as zip_ref:\n",
    "        zip_ref.extractall(\"data/unzipped\")\n",
    "       "
   ]
  }
 ],
 "metadata": {
  "kernelspec": {
   "display_name": "Python [conda env:root] *",
   "language": "python",
   "name": "conda-root-py"
  },
  "language_info": {
   "codemirror_mode": {
    "name": "ipython",
    "version": 3
   },
   "file_extension": ".py",
   "mimetype": "text/x-python",
   "name": "python",
   "nbconvert_exporter": "python",
   "pygments_lexer": "ipython3",
   "version": "3.11.5"
  }
 },
 "nbformat": 4,
 "nbformat_minor": 5
}
